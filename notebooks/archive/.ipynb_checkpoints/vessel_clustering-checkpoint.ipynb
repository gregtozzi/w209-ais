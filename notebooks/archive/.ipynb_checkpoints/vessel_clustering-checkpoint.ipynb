{
 "cells": [
  {
   "cell_type": "code",
   "execution_count": 124,
   "metadata": {},
   "outputs": [],
   "source": [
    "import csv\n",
    "import pandas as pd\n",
    "import numpy as np"
   ]
  },
  {
   "cell_type": "code",
   "execution_count": 209,
   "metadata": {},
   "outputs": [],
   "source": [
    "def inspect_vessel(MMSI, Plot=False):\n",
    "    vessel = pd.DataFrame.from_dict(tracks[MMSI])\n",
    "    vessel.DTG = pd.to_datetime(first_vessel['DTG'])\n",
    "    vessel.lat = pd.to_numeric(first_vessel['lat'])\n",
    "    vessel.lon = pd.to_numeric(first_vessel['lon'])\n",
    "    vessel.COG = pd.to_numeric(first_vessel['COG'])\n",
    "    vessel.SOG = pd.to_numeric(first_vessel['SOG'])\n",
    "    vessel.sort_values('DTG', ignore_index=True, inplace=True)\n",
    "    \n",
    "    if Plot:\n",
    "        vessel.plot(x='lon', y='lat')\n",
    "        vessel.plot(y='SOG')\n",
    "    \n",
    "    return vessel.dropna()"
   ]
  },
  {
   "cell_type": "code",
   "execution_count": 207,
   "metadata": {},
   "outputs": [],
   "source": [
    "def detect_mooring(df):\n",
    "    min_speed = (df.SOG.rolling(10).mean() < 2).to_numpy()\n",
    "    \n",
    "    transitions = np.where(min_speed[:-1] != (min_speed[1:]))[0]\n",
    "    transitions = np.insert(transitions, 0, 0)\n",
    "    \n",
    "    mean_SOG = []\n",
    "    mean_lat = []\n",
    "    mean_lon = []\n",
    "\n",
    "    for i in range(len(transitions) - 1):\n",
    "        mean_SOG.append(v1.SOG[transitions[i]:transitions[i+1]].mean())\n",
    "        mean_lat.append(v1.lat[transitions[i]:transitions[i+1]].mean())\n",
    "        mean_lon.append(v1.lon[transitions[i]:transitions[i+1]].mean())\n",
    "\n",
    "    mean_SOG = np.array(mean_SOG)\n",
    "    moored   = np.where(mean_SOG < 1)[0]\n",
    "    mean_lat = list(np.array(mean_lat)[moored])\n",
    "    mean_lon = list(np.array(mean_lon)[moored])\n",
    "    \n",
    "    return(mean_lat, mean_lon)"
   ]
  },
  {
   "cell_type": "code",
   "execution_count": 2,
   "metadata": {},
   "outputs": [],
   "source": [
    "MMSIs = set()"
   ]
  },
  {
   "cell_type": "code",
   "execution_count": 3,
   "metadata": {},
   "outputs": [],
   "source": [
    "with open('../../ais/data/AIS_2015_01_SF_Bay.csv', newline='') as f:\n",
    "    reader = csv.reader(f)\n",
    "    next(reader) # Skip the header\n",
    "    foo = next(reader)\n",
    "    for row in reader:\n",
    "        MMSIs.add(row[0])"
   ]
  },
  {
   "cell_type": "code",
   "execution_count": 4,
   "metadata": {},
   "outputs": [
    {
     "data": {
      "text/plain": [
       "711"
      ]
     },
     "execution_count": 4,
     "metadata": {},
     "output_type": "execute_result"
    }
   ],
   "source": [
    "len(MMSIs)"
   ]
  },
  {
   "cell_type": "code",
   "execution_count": 5,
   "metadata": {},
   "outputs": [],
   "source": [
    "tracks = {MMSI: {'lat': [], 'lon': [], 'DTG': [], 'COG': [], 'SOG': []} for MMSI in MMSIs}"
   ]
  },
  {
   "cell_type": "code",
   "execution_count": 6,
   "metadata": {},
   "outputs": [],
   "source": [
    "with open('../../ais/data/AIS_2015_01_SF_Bay.csv', newline='') as f:\n",
    "    reader = csv.reader(f)\n",
    "    next(reader) # Skip the header\n",
    "    for row in reader:\n",
    "        tracks[row[0]]['lat'].append(row[2])\n",
    "        tracks[row[0]]['lon'].append(row[3])\n",
    "        tracks[row[0]]['DTG'].append(row[1])\n",
    "        tracks[row[0]]['COG'].append(row[5])\n",
    "        tracks[row[0]]['SOG'].append(row[4])"
   ]
  },
  {
   "cell_type": "code",
   "execution_count": 210,
   "metadata": {},
   "outputs": [],
   "source": [
    "moor_lat = []\n",
    "moor_lon = []\n",
    "\n",
    "for MMSI in MMSIs:\n",
    "    vsl = inspect_vessel(MMSI)\n",
    "    lat, lon = detect_mooring(vsl)\n",
    "    moor_lat.append(lat)\n",
    "    moor_lon.append(lon)"
   ]
  },
  {
   "cell_type": "code",
   "execution_count": 214,
   "metadata": {},
   "outputs": [
    {
     "data": {
      "text/html": [
       "<div>\n",
       "<style scoped>\n",
       "    .dataframe tbody tr th:only-of-type {\n",
       "        vertical-align: middle;\n",
       "    }\n",
       "\n",
       "    .dataframe tbody tr th {\n",
       "        vertical-align: top;\n",
       "    }\n",
       "\n",
       "    .dataframe thead th {\n",
       "        text-align: right;\n",
       "    }\n",
       "</style>\n",
       "<table border=\"1\" class=\"dataframe\">\n",
       "  <thead>\n",
       "    <tr style=\"text-align: right;\">\n",
       "      <th></th>\n",
       "      <th>lat</th>\n",
       "      <th>lon</th>\n",
       "      <th>DTG</th>\n",
       "      <th>COG</th>\n",
       "      <th>SOG</th>\n",
       "    </tr>\n",
       "  </thead>\n",
       "  <tbody>\n",
       "    <tr>\n",
       "      <th>0</th>\n",
       "      <td>37.78521</td>\n",
       "      <td>-122.55986</td>\n",
       "      <td>2015-01-07 22:32:26</td>\n",
       "      <td>68.4</td>\n",
       "      <td>17.5</td>\n",
       "    </tr>\n",
       "    <tr>\n",
       "      <th>1</th>\n",
       "      <td>37.78685</td>\n",
       "      <td>-122.55390</td>\n",
       "      <td>2015-01-07 22:33:27</td>\n",
       "      <td>68.2</td>\n",
       "      <td>17.1</td>\n",
       "    </tr>\n",
       "    <tr>\n",
       "      <th>2</th>\n",
       "      <td>37.78899</td>\n",
       "      <td>-122.54817</td>\n",
       "      <td>2015-01-07 22:34:31</td>\n",
       "      <td>64.7</td>\n",
       "      <td>17.3</td>\n",
       "    </tr>\n",
       "    <tr>\n",
       "      <th>3</th>\n",
       "      <td>37.79122</td>\n",
       "      <td>-122.54202</td>\n",
       "      <td>2015-01-07 22:35:38</td>\n",
       "      <td>66.0</td>\n",
       "      <td>16.9</td>\n",
       "    </tr>\n",
       "    <tr>\n",
       "      <th>4</th>\n",
       "      <td>37.79342</td>\n",
       "      <td>-122.53601</td>\n",
       "      <td>2015-01-07 22:36:44</td>\n",
       "      <td>66.0</td>\n",
       "      <td>17.0</td>\n",
       "    </tr>\n",
       "    <tr>\n",
       "      <th>...</th>\n",
       "      <td>...</td>\n",
       "      <td>...</td>\n",
       "      <td>...</td>\n",
       "      <td>...</td>\n",
       "      <td>...</td>\n",
       "    </tr>\n",
       "    <tr>\n",
       "      <th>4392</th>\n",
       "      <td>37.71986</td>\n",
       "      <td>-122.33411</td>\n",
       "      <td>2015-01-17 11:58:19</td>\n",
       "      <td>172.3</td>\n",
       "      <td>0.5</td>\n",
       "    </tr>\n",
       "    <tr>\n",
       "      <th>4393</th>\n",
       "      <td>37.71945</td>\n",
       "      <td>-122.33385</td>\n",
       "      <td>2015-01-17 12:01:19</td>\n",
       "      <td>151.5</td>\n",
       "      <td>0.5</td>\n",
       "    </tr>\n",
       "    <tr>\n",
       "      <th>4394</th>\n",
       "      <td>37.71902</td>\n",
       "      <td>-122.33343</td>\n",
       "      <td>2015-01-17 12:04:19</td>\n",
       "      <td>130.2</td>\n",
       "      <td>0.5</td>\n",
       "    </tr>\n",
       "    <tr>\n",
       "      <th>4395</th>\n",
       "      <td>37.71882</td>\n",
       "      <td>-122.33299</td>\n",
       "      <td>2015-01-17 12:07:19</td>\n",
       "      <td>112.5</td>\n",
       "      <td>0.5</td>\n",
       "    </tr>\n",
       "    <tr>\n",
       "      <th>4396</th>\n",
       "      <td>37.71872</td>\n",
       "      <td>-122.33249</td>\n",
       "      <td>2015-01-17 12:10:19</td>\n",
       "      <td>96.8</td>\n",
       "      <td>0.4</td>\n",
       "    </tr>\n",
       "  </tbody>\n",
       "</table>\n",
       "<p>4397 rows × 5 columns</p>\n",
       "</div>"
      ],
      "text/plain": [
       "           lat        lon                 DTG    COG   SOG\n",
       "0     37.78521 -122.55986 2015-01-07 22:32:26   68.4  17.5\n",
       "1     37.78685 -122.55390 2015-01-07 22:33:27   68.2  17.1\n",
       "2     37.78899 -122.54817 2015-01-07 22:34:31   64.7  17.3\n",
       "3     37.79122 -122.54202 2015-01-07 22:35:38   66.0  16.9\n",
       "4     37.79342 -122.53601 2015-01-07 22:36:44   66.0  17.0\n",
       "...        ...        ...                 ...    ...   ...\n",
       "4392  37.71986 -122.33411 2015-01-17 11:58:19  172.3   0.5\n",
       "4393  37.71945 -122.33385 2015-01-17 12:01:19  151.5   0.5\n",
       "4394  37.71902 -122.33343 2015-01-17 12:04:19  130.2   0.5\n",
       "4395  37.71882 -122.33299 2015-01-17 12:07:19  112.5   0.5\n",
       "4396  37.71872 -122.33249 2015-01-17 12:10:19   96.8   0.4\n",
       "\n",
       "[4397 rows x 5 columns]"
      ]
     },
     "execution_count": 214,
     "metadata": {},
     "output_type": "execute_result"
    },
    {
     "data": {
      "image/png": "[encoded data removed]",
      "text/plain": [
       "<Figure size 432x288 with 1 Axes>"
      ]
     },
     "metadata": {
      "needs_background": "light"
     },
     "output_type": "display_data"
    },
    {
     "data": {
      "image/png": "[encoded data removed]",
      "text/plain": [
       "<Figure size 432x288 with 1 Axes>"
      ]
     },
     "metadata": {
      "needs_background": "light"
     },
     "output_type": "display_data"
    }
   ],
   "source": [
    "inspect_vessel('209047000', Plot=True)"
   ]
  },
  {
   "cell_type": "code",
   "execution_count": 138,
   "metadata": {},
   "outputs": [
    {
     "data": {
      "text/plain": [
       "array([6396,    4,    5,   52, 1871,    2,   10,    2,   10])"
      ]
     },
     "execution_count": 138,
     "metadata": {},
     "output_type": "execute_result"
    }
   ],
   "source": [
    "np.diff(transitions)"
   ]
  },
  {
   "cell_type": "code",
   "execution_count": 136,
   "metadata": {},
   "outputs": [
    {
     "data": {
      "text/plain": [
       "array([  74, 6470, 6474, 6479, 6531, 8402, 8404, 8414, 8416, 8426])"
      ]
     },
     "execution_count": 136,
     "metadata": {},
     "output_type": "execute_result"
    }
   ],
   "source": [
    "transitions"
   ]
  },
  {
   "cell_type": "code",
   "execution_count": 148,
   "metadata": {},
   "outputs": [
    {
     "data": {
      "text/plain": [
       "<matplotlib.axes._subplots.AxesSubplot at 0x7ff9c1b0ff90>"
      ]
     },
     "execution_count": 148,
     "metadata": {},
     "output_type": "execute_result"
    },
    {
     "data": {
      "image/png": "[encoded data removed]",
      "text/plain": [
       "<Figure size 432x288 with 1 Axes>"
      ]
     },
     "metadata": {
      "needs_background": "light"
     },
     "output_type": "display_data"
    }
   ],
   "source": [
    "v1.SOG[6480:6531].plot()"
   ]
  },
  {
   "cell_type": "code",
   "execution_count": 169,
   "metadata": {},
   "outputs": [],
   "source": [
    "min_speed = (v1.SOG.rolling(10).mean() < 2).to_numpy()"
   ]
  },
  {
   "cell_type": "code",
   "execution_count": 185,
   "metadata": {},
   "outputs": [],
   "source": [
    "transitions = np.where(min_speed[:-1] != (min_speed[1:]))[0]\n",
    "transitions = np.insert(transitions, 0, 0)"
   ]
  },
  {
   "cell_type": "code",
   "execution_count": 198,
   "metadata": {},
   "outputs": [],
   "source": [
    "mean_SOG = []\n",
    "mean_lat = []\n",
    "mean_lon = []\n",
    "\n",
    "for i in range(len(transitions) - 1):\n",
    "    mean_SOG.append(v1.SOG[transitions[i]:transitions[i+1]].mean())\n",
    "    mean_lat.append(v1.lat[transitions[i]:transitions[i+1]].mean())\n",
    "    mean_lon.append(v1.lon[transitions[i]:transitions[i+1]].mean())\n",
    "\n",
    "mean_SOG = np.array(mean_SOG)\n",
    "moored = np.where(mean_SOG < 1)[0]\n",
    "mean_lat = np.array(mean_lat)[moored]\n",
    "mean_lon = np.array(mean_lon)[moored]\n"
   ]
  },
  {
   "cell_type": "code",
   "execution_count": 202,
   "metadata": {},
   "outputs": [
    {
     "data": {
      "text/plain": [
       "array([-122.33169905, -122.31913625])"
      ]
     },
     "execution_count": 202,
     "metadata": {},
     "output_type": "execute_result"
    }
   ],
   "source": [
    "mean_lon"
   ]
  },
  {
   "cell_type": "code",
   "execution_count": 157,
   "metadata": {},
   "outputs": [
    {
     "data": {
      "text/plain": [
       "(array([6480, 8430]),)"
      ]
     },
     "execution_count": 157,
     "metadata": {},
     "output_type": "execute_result"
    }
   ],
   "source": [
    "np.where((mooring[:-1] == True) & (mooring[1:] == False))"
   ]
  },
  {
   "cell_type": "code",
   "execution_count": 166,
   "metadata": {},
   "outputs": [
    {
     "data": {
      "text/plain": [
       "-122.33483999999999"
      ]
     },
     "execution_count": 166,
     "metadata": {},
     "output_type": "execute_result"
    }
   ],
   "source": [
    "v1.lon[6480-1]"
   ]
  },
  {
   "cell_type": "code",
   "execution_count": 205,
   "metadata": {},
   "outputs": [],
   "source": [
    "def detect_mooring(df):\n",
    "    min_speed = (df.SOG.rolling(10).mean() < 2).to_numpy()\n",
    "    \n",
    "    transitions = np.where(min_speed[:-1] != (min_speed[1:]))[0]\n",
    "    transitions = np.insert(transitions, 0, 0)\n",
    "    \n",
    "    mean_SOG = []\n",
    "    mean_lat = []\n",
    "    mean_lon = []\n",
    "\n",
    "    for i in range(len(transitions) - 1):\n",
    "        mean_SOG.append(v1.SOG[transitions[i]:transitions[i+1]].mean())\n",
    "        mean_lat.append(v1.lat[transitions[i]:transitions[i+1]].mean())\n",
    "        mean_lon.append(v1.lon[transitions[i]:transitions[i+1]].mean())\n",
    "\n",
    "    mean_SOG = np.array(mean_SOG)\n",
    "    moored   = np.where(mean_SOG < 1)[0]\n",
    "    mean_lat = list(np.array(mean_lat)[moored])\n",
    "    mean_lon = list(np.array(mean_lon)[moored])\n",
    "    \n",
    "    return(mean_lat, mean_lon)"
   ]
  },
  {
   "cell_type": "code",
   "execution_count": 206,
   "metadata": {},
   "outputs": [
    {
     "data": {
      "text/plain": [
       "([37.72028266520858, 37.814092928759926],\n",
       " [-122.33169904546155, -122.31913625329838])"
      ]
     },
     "execution_count": 206,
     "metadata": {},
     "output_type": "execute_result"
    }
   ],
   "source": [
    "detect_mooring(v1)"
   ]
  },
  {
   "cell_type": "code",
   "execution_count": null,
   "metadata": {},
   "outputs": [],
   "source": []
  }
 ],
 "metadata": {
  "kernelspec": {
   "display_name": "Python 3",
   "language": "python",
   "name": "python3"
  },
  "language_info": {
   "codemirror_mode": {
    "name": "ipython",
    "version": 3
   },
   "file_extension": ".py",
   "mimetype": "text/x-python",
   "name": "python",
   "nbconvert_exporter": "python",
   "pygments_lexer": "ipython3",
   "version": "3.7.7"
  }
 },
 "nbformat": 4,
 "nbformat_minor": 4
}
