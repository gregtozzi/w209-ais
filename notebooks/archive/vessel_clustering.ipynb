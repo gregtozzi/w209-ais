{
 "cells": [
  {
   "cell_type": "code",
   "execution_count": 71,
   "metadata": {},
   "outputs": [],
   "source": [
    "import csv\n",
    "import pandas as pd\n",
    "import numpy as np\n",
    "import matplotlib.pyplot as plt\n",
    "from shapely.geometry import Point, LineString"
   ]
  },
  {
   "cell_type": "code",
   "execution_count": 72,
   "metadata": {},
   "outputs": [],
   "source": [
    "def inspect_vessel(MMSI, tracks, Plot=False):\n",
    "    vessel = pd.DataFrame.from_dict(tracks[MMSI])\n",
    "    vessel.DTG = pd.to_datetime(vessel['DTG'])\n",
    "    vessel.lat = pd.to_numeric(vessel['lat'])\n",
    "    vessel.lon = pd.to_numeric(vessel['lon'])\n",
    "    vessel.COG = pd.to_numeric(vessel['COG'])\n",
    "    vessel.SOG = pd.to_numeric(vessel['SOG'])\n",
    "    vessel.sort_values('DTG', ignore_index=True, inplace=True)\n",
    "    vessel['geometry'] = [Point(xy) for xy in zip(vessel.lon, vessel.lat)]\n",
    "    \n",
    "    if Plot:\n",
    "        vessel.plot(x='lon', y='lat')\n",
    "        vessel.plot(y='SOG')\n",
    "    \n",
    "    return vessel.dropna()"
   ]
  },
  {
   "cell_type": "code",
   "execution_count": 83,
   "metadata": {},
   "outputs": [],
   "source": [
    "def detect_mooring(df):\n",
    "    min_speed = (df.SOG.rolling(10).mean() < 2).to_numpy()\n",
    "    \n",
    "    transitions = np.where(min_speed[:-1] != (min_speed[1:]))[0]\n",
    "    transitions = np.insert(transitions, 0, 0)\n",
    "    transitions = np.append(transitions, df.shape[0])\n",
    "    #print(transitions)\n",
    "    \n",
    "    mean_SOG = []\n",
    "    mean_lat = []\n",
    "    mean_lon = []\n",
    "\n",
    "    for i in range(len(transitions) - 1):\n",
    "        mean_SOG.append(df.SOG[transitions[i]:transitions[i+1]].mean())\n",
    "        mean_lat.append(df.lat[transitions[i]:transitions[i+1]].mean())\n",
    "        mean_lon.append(df.lon[transitions[i]:transitions[i+1]].mean())\n",
    "\n",
    "    mean_SOG = np.array(mean_SOG)\n",
    "    moored   = np.where(mean_SOG < 1)[0]\n",
    "    print(moored)\n",
    "    mean_lat = list(np.array(mean_lat)[moored])\n",
    "    mean_lon = list(np.array(mean_lon)[moored])\n",
    "    \n",
    "    return(mean_lat, mean_lon)"
   ]
  },
  {
   "cell_type": "code",
   "execution_count": 80,
   "metadata": {},
   "outputs": [],
   "source": [
    "def detect_transit(df):\n",
    "    min_speed = (df.SOG.rolling(10).mean() < 2).to_numpy()\n",
    "    \n",
    "    transitions = np.where(min_speed[:-1] != (min_speed[1:]))[0]\n",
    "    transitions = np.insert(transitions, 0, 0)\n",
    "    transitions = np.append(transitions, df.shape[0])\n",
    "    print(transitions)\n",
    "    \n",
    "    mean_SOG = []\n",
    "    mean_lat = []\n",
    "    mean_lon = []\n",
    "\n",
    "    for i in range(len(transitions) - 1):\n",
    "        mean_SOG.append(df.SOG[transitions[i]:transitions[i+1]].mean())\n",
    "        mean_lat.append(df.lat[transitions[i]:transitions[i+1]].mean())\n",
    "        mean_lon.append(df.lon[transitions[i]:transitions[i+1]].mean())\n",
    "\n",
    "    mean_SOG = np.array(mean_SOG)\n",
    "    moored   = np.where(mean_SOG > 1)[0]\n",
    "    print(moored)\n",
    "    #mean_lat = list(np.array(mean_lat)[moored])\n",
    "    #mean_lon = list(np.array(mean_lon)[moored])\n",
    "    \n",
    "    #return(mean_lat, mean_lon)"
   ]
  },
  {
   "cell_type": "code",
   "execution_count": 4,
   "metadata": {},
   "outputs": [],
   "source": [
    "MMSIs = set()"
   ]
  },
  {
   "cell_type": "code",
   "execution_count": 5,
   "metadata": {},
   "outputs": [],
   "source": [
    "with open('../../ais/data/AIS_2015_01_SF_Bay.csv', newline='') as f:\n",
    "    reader = csv.reader(f)\n",
    "    next(reader) # Skip the header\n",
    "    foo = next(reader)\n",
    "    for row in reader:\n",
    "        MMSIs.add(row[0])"
   ]
  },
  {
   "cell_type": "code",
   "execution_count": 6,
   "metadata": {},
   "outputs": [
    {
     "data": {
      "text/plain": [
       "711"
      ]
     },
     "execution_count": 6,
     "metadata": {},
     "output_type": "execute_result"
    }
   ],
   "source": [
    "len(MMSIs)"
   ]
  },
  {
   "cell_type": "code",
   "execution_count": 7,
   "metadata": {},
   "outputs": [],
   "source": [
    "tracks = {MMSI: {'lat': [], 'lon': [], 'DTG': [], 'COG': [], 'SOG': []} for MMSI in MMSIs}"
   ]
  },
  {
   "cell_type": "code",
   "execution_count": 8,
   "metadata": {},
   "outputs": [],
   "source": [
    "with open('../../ais/data/AIS_2015_01_SF_Bay.csv', newline='') as f:\n",
    "    reader = csv.reader(f)\n",
    "    next(reader) # Skip the header\n",
    "    for row in reader:\n",
    "        tracks[row[0]]['lat'].append(row[2])\n",
    "        tracks[row[0]]['lon'].append(row[3])\n",
    "        tracks[row[0]]['DTG'].append(row[1])\n",
    "        tracks[row[0]]['COG'].append(row[5])\n",
    "        tracks[row[0]]['SOG'].append(row[4])"
   ]
  },
  {
   "cell_type": "code",
   "execution_count": 66,
   "metadata": {},
   "outputs": [],
   "source": [
    "moor_lat = {}\n",
    "moor_lon = {}\n",
    "\n",
    "for MMSI in MMSIs:\n",
    "    vsl = inspect_vessel(MMSI, tracks)\n",
    "    lat, lon = detect_mooring(vsl)\n",
    "    moor_lat[MMSI] = lat\n",
    "    moor_lon[MMSI] = lon"
   ]
  },
  {
   "cell_type": "code",
   "execution_count": 67,
   "metadata": {},
   "outputs": [],
   "source": [
    "moor_lat = list(moor_lat.values())\n",
    "moor_lon = list(moor_lon.values())"
   ]
  },
  {
   "cell_type": "code",
   "execution_count": 68,
   "metadata": {},
   "outputs": [],
   "source": [
    "lat = np.array([lat for vessel in moor_lat for lat in vessel])\n",
    "lon = np.array([lon for vessel in moor_lon for lon in vessel])"
   ]
  },
  {
   "cell_type": "code",
   "execution_count": 70,
   "metadata": {},
   "outputs": [
    {
     "data": {
      "text/plain": [
       "<matplotlib.collections.PathCollection at 0x7f8272d02190>"
      ]
     },
     "execution_count": 70,
     "metadata": {},
     "output_type": "execute_result"
    },
    {
     "data": {
      "image/png": "[encoded data removed]",
      "text/plain": [
       "<Figure size 432x288 with 1 Axes>"
      ]
     },
     "metadata": {
      "needs_background": "light"
     },
     "output_type": "display_data"
    }
   ],
   "source": [
    "plt.scatter(lon, lat)"
   ]
  },
  {
   "cell_type": "code",
   "execution_count": 77,
   "metadata": {},
   "outputs": [],
   "source": [
    "foo = inspect_vessel('367568420', tracks)"
   ]
  },
  {
   "cell_type": "code",
   "execution_count": 84,
   "metadata": {},
   "outputs": [
    {
     "name": "stdout",
     "output_type": "stream",
     "text": [
      "[ 0  9 13 15]\n"
     ]
    },
    {
     "data": {
      "text/plain": [
       "([37.806205, 37.85709000000001, 37.841215, 37.91411333333334],\n",
       " [-122.44555, -122.47676000000006, -122.457605, -122.35261333333334])"
      ]
     },
     "execution_count": 84,
     "metadata": {},
     "output_type": "execute_result"
    }
   ],
   "source": [
    "detect_mooring(foo)"
   ]
  },
  {
   "cell_type": "code",
   "execution_count": 79,
   "metadata": {},
   "outputs": [
    {
     "data": {
      "text/html": [
       "<div>\n",
       "<style scoped>\n",
       "    .dataframe tbody tr th:only-of-type {\n",
       "        vertical-align: middle;\n",
       "    }\n",
       "\n",
       "    .dataframe tbody tr th {\n",
       "        vertical-align: top;\n",
       "    }\n",
       "\n",
       "    .dataframe thead th {\n",
       "        text-align: right;\n",
       "    }\n",
       "</style>\n",
       "<table border=\"1\" class=\"dataframe\">\n",
       "  <thead>\n",
       "    <tr style=\"text-align: right;\">\n",
       "      <th></th>\n",
       "      <th>lat</th>\n",
       "      <th>lon</th>\n",
       "      <th>DTG</th>\n",
       "      <th>COG</th>\n",
       "      <th>SOG</th>\n",
       "      <th>geometry</th>\n",
       "    </tr>\n",
       "  </thead>\n",
       "  <tbody>\n",
       "    <tr>\n",
       "      <th>0</th>\n",
       "      <td>37.80604</td>\n",
       "      <td>-122.44574</td>\n",
       "      <td>2015-01-01 06:40:56</td>\n",
       "      <td>-49.6</td>\n",
       "      <td>0.0</td>\n",
       "      <td>POINT (-122.44574 37.80604)</td>\n",
       "    </tr>\n",
       "    <tr>\n",
       "      <th>1</th>\n",
       "      <td>37.80607</td>\n",
       "      <td>-122.44573</td>\n",
       "      <td>2015-01-01 06:41:57</td>\n",
       "      <td>-49.6</td>\n",
       "      <td>0.0</td>\n",
       "      <td>POINT (-122.44573 37.80607)</td>\n",
       "    </tr>\n",
       "    <tr>\n",
       "      <th>2</th>\n",
       "      <td>37.80604</td>\n",
       "      <td>-122.44574</td>\n",
       "      <td>2015-01-01 06:43:32</td>\n",
       "      <td>-49.6</td>\n",
       "      <td>0.0</td>\n",
       "      <td>POINT (-122.44574 37.80604)</td>\n",
       "    </tr>\n",
       "    <tr>\n",
       "      <th>3</th>\n",
       "      <td>37.80605</td>\n",
       "      <td>-122.44571</td>\n",
       "      <td>2015-01-01 06:45:30</td>\n",
       "      <td>-49.6</td>\n",
       "      <td>0.0</td>\n",
       "      <td>POINT (-122.44571 37.80605)</td>\n",
       "    </tr>\n",
       "    <tr>\n",
       "      <th>4</th>\n",
       "      <td>37.80606</td>\n",
       "      <td>-122.44573</td>\n",
       "      <td>2015-01-01 06:49:29</td>\n",
       "      <td>-49.6</td>\n",
       "      <td>0.0</td>\n",
       "      <td>POINT (-122.44573 37.80606)</td>\n",
       "    </tr>\n",
       "    <tr>\n",
       "      <th>...</th>\n",
       "      <td>...</td>\n",
       "      <td>...</td>\n",
       "      <td>...</td>\n",
       "      <td>...</td>\n",
       "      <td>...</td>\n",
       "      <td>...</td>\n",
       "    </tr>\n",
       "    <tr>\n",
       "      <th>558</th>\n",
       "      <td>37.91411</td>\n",
       "      <td>-122.35259</td>\n",
       "      <td>2015-01-26 01:59:32</td>\n",
       "      <td>-169.7</td>\n",
       "      <td>0.0</td>\n",
       "      <td>POINT (-122.35259 37.91411)</td>\n",
       "    </tr>\n",
       "    <tr>\n",
       "      <th>559</th>\n",
       "      <td>37.91412</td>\n",
       "      <td>-122.35259</td>\n",
       "      <td>2015-01-26 02:03:01</td>\n",
       "      <td>-169.7</td>\n",
       "      <td>0.0</td>\n",
       "      <td>POINT (-122.35259 37.91412)</td>\n",
       "    </tr>\n",
       "    <tr>\n",
       "      <th>560</th>\n",
       "      <td>37.91412</td>\n",
       "      <td>-122.35260</td>\n",
       "      <td>2015-01-26 02:05:59</td>\n",
       "      <td>-169.7</td>\n",
       "      <td>0.0</td>\n",
       "      <td>POINT (-122.3526 37.91412)</td>\n",
       "    </tr>\n",
       "    <tr>\n",
       "      <th>561</th>\n",
       "      <td>37.91411</td>\n",
       "      <td>-122.35262</td>\n",
       "      <td>2015-01-26 02:09:02</td>\n",
       "      <td>-169.7</td>\n",
       "      <td>0.0</td>\n",
       "      <td>POINT (-122.35262 37.91411)</td>\n",
       "    </tr>\n",
       "    <tr>\n",
       "      <th>562</th>\n",
       "      <td>37.91411</td>\n",
       "      <td>-122.35262</td>\n",
       "      <td>2015-01-26 02:12:00</td>\n",
       "      <td>-169.7</td>\n",
       "      <td>0.0</td>\n",
       "      <td>POINT (-122.35262 37.91411)</td>\n",
       "    </tr>\n",
       "  </tbody>\n",
       "</table>\n",
       "<p>563 rows × 6 columns</p>\n",
       "</div>"
      ],
      "text/plain": [
       "          lat        lon                 DTG    COG  SOG  \\\n",
       "0    37.80604 -122.44574 2015-01-01 06:40:56  -49.6  0.0   \n",
       "1    37.80607 -122.44573 2015-01-01 06:41:57  -49.6  0.0   \n",
       "2    37.80604 -122.44574 2015-01-01 06:43:32  -49.6  0.0   \n",
       "3    37.80605 -122.44571 2015-01-01 06:45:30  -49.6  0.0   \n",
       "4    37.80606 -122.44573 2015-01-01 06:49:29  -49.6  0.0   \n",
       "..        ...        ...                 ...    ...  ...   \n",
       "558  37.91411 -122.35259 2015-01-26 01:59:32 -169.7  0.0   \n",
       "559  37.91412 -122.35259 2015-01-26 02:03:01 -169.7  0.0   \n",
       "560  37.91412 -122.35260 2015-01-26 02:05:59 -169.7  0.0   \n",
       "561  37.91411 -122.35262 2015-01-26 02:09:02 -169.7  0.0   \n",
       "562  37.91411 -122.35262 2015-01-26 02:12:00 -169.7  0.0   \n",
       "\n",
       "                        geometry  \n",
       "0    POINT (-122.44574 37.80604)  \n",
       "1    POINT (-122.44573 37.80607)  \n",
       "2    POINT (-122.44574 37.80604)  \n",
       "3    POINT (-122.44571 37.80605)  \n",
       "4    POINT (-122.44573 37.80606)  \n",
       "..                           ...  \n",
       "558  POINT (-122.35259 37.91411)  \n",
       "559  POINT (-122.35259 37.91412)  \n",
       "560   POINT (-122.3526 37.91412)  \n",
       "561  POINT (-122.35262 37.91411)  \n",
       "562  POINT (-122.35262 37.91411)  \n",
       "\n",
       "[563 rows x 6 columns]"
      ]
     },
     "execution_count": 79,
     "metadata": {},
     "output_type": "execute_result"
    },
    {
     "data": {
      "image/png": "[encoded data removed]",
      "text/plain": [
       "<Figure size 432x288 with 1 Axes>"
      ]
     },
     "metadata": {
      "needs_background": "light"
     },
     "output_type": "display_data"
    },
    {
     "data": {
      "image/png": "[encoded data removed]",
      "text/plain": [
       "<Figure size 432x288 with 1 Axes>"
      ]
     },
     "metadata": {
      "needs_background": "light"
     },
     "output_type": "display_data"
    }
   ],
   "source": [
    "inspect_vessel('367568420', tracks, Plot=True)"
   ]
  },
  {
   "cell_type": "code",
   "execution_count": null,
   "metadata": {},
   "outputs": [],
   "source": []
  }
 ],
 "metadata": {
  "kernelspec": {
   "display_name": "Python 3",
   "language": "python",
   "name": "python3"
  },
  "language_info": {
   "codemirror_mode": {
    "name": "ipython",
    "version": 3
   },
   "file_extension": ".py",
   "mimetype": "text/x-python",
   "name": "python",
   "nbconvert_exporter": "python",
   "pygments_lexer": "ipython3",
   "version": "3.7.7"
  }
 },
 "nbformat": 4,
 "nbformat_minor": 4
}
