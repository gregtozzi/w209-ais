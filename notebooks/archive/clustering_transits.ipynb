{
 "cells": [
  {
   "cell_type": "markdown",
   "metadata": {},
   "source": [
    "# Clustering"
   ]
  },
  {
   "cell_type": "code",
   "execution_count": 1,
   "metadata": {},
   "outputs": [],
   "source": [
    "import ais_processing\n",
    "import pandas as pd\n",
    "import geopandas as gpd\n",
    "import numpy as np\n",
    "from shapely.geometry import MultiLineString, Polygon, Point"
   ]
  },
  {
   "cell_type": "code",
   "execution_count": 7,
   "metadata": {},
   "outputs": [],
   "source": [
    "df = gpd.read_file('bay_transits.csv', GEOM_POSSIBLE_NAMES='geometry', KEEP_GEOM_COLUMNS='NO')"
   ]
  },
  {
   "cell_type": "code",
   "execution_count": 8,
   "metadata": {},
   "outputs": [
    {
     "data": {
      "text/plain": [
       "(14506, 10)"
      ]
     },
     "execution_count": 8,
     "metadata": {},
     "output_type": "execute_result"
    }
   ],
   "source": [
    "df.shape"
   ]
  },
  {
   "cell_type": "code",
   "execution_count": 11,
   "metadata": {},
   "outputs": [
    {
     "data": {
      "text/html": [
       "<div>\n",
       "<style scoped>\n",
       "    .dataframe tbody tr th:only-of-type {\n",
       "        vertical-align: middle;\n",
       "    }\n",
       "\n",
       "    .dataframe tbody tr th {\n",
       "        vertical-align: top;\n",
       "    }\n",
       "\n",
       "    .dataframe thead th {\n",
       "        text-align: right;\n",
       "    }\n",
       "</style>\n",
       "<table border=\"1\" class=\"dataframe\">\n",
       "  <thead>\n",
       "    <tr style=\"text-align: right;\">\n",
       "      <th></th>\n",
       "      <th>start_DTG</th>\n",
       "      <th>end_DTG</th>\n",
       "      <th>SOG</th>\n",
       "      <th>LOA_unbinned</th>\n",
       "      <th>day</th>\n",
       "      <th>month</th>\n",
       "      <th>length</th>\n",
       "      <th>Speed</th>\n",
       "      <th>Length</th>\n",
       "      <th>geometry</th>\n",
       "    </tr>\n",
       "  </thead>\n",
       "  <tbody>\n",
       "    <tr>\n",
       "      <th>0</th>\n",
       "      <td>2015-01-19 18:21:43</td>\n",
       "      <td>2015-01-20 00:03:48</td>\n",
       "      <td>47.7</td>\n",
       "      <td>28.65</td>\n",
       "      <td>Mon</td>\n",
       "      <td>Jan</td>\n",
       "      <td>7.900541642041586</td>\n",
       "      <td>45-50kt</td>\n",
       "      <td>0-50m</td>\n",
       "      <td>LINESTRING (-122.38206 37.74708, -122.38202 37...</td>\n",
       "    </tr>\n",
       "    <tr>\n",
       "      <th>1</th>\n",
       "      <td>2015-01-11 18:39:55</td>\n",
       "      <td>2015-01-12 04:13:36</td>\n",
       "      <td>11.3</td>\n",
       "      <td>27.42</td>\n",
       "      <td>Sun</td>\n",
       "      <td>Jan</td>\n",
       "      <td>1.5502465242070502</td>\n",
       "      <td>10-15kt</td>\n",
       "      <td>0-50m</td>\n",
       "      <td>LINESTRING (-121.90111 38.04800, -121.90470 38...</td>\n",
       "    </tr>\n",
       "    <tr>\n",
       "      <th>2</th>\n",
       "      <td>2015-01-16 09:12:44</td>\n",
       "      <td>2015-01-16 20:13:05</td>\n",
       "      <td>13.0</td>\n",
       "      <td>27.42</td>\n",
       "      <td>Fri</td>\n",
       "      <td>Jan</td>\n",
       "      <td>1.5471122663391763</td>\n",
       "      <td>10-15kt</td>\n",
       "      <td>0-50m</td>\n",
       "      <td>LINESTRING (-121.90003 38.04878, -121.90000 38...</td>\n",
       "    </tr>\n",
       "    <tr>\n",
       "      <th>3</th>\n",
       "      <td>2015-01-09 05:25:13</td>\n",
       "      <td>2015-01-09 15:02:24</td>\n",
       "      <td>9.9</td>\n",
       "      <td>27.42</td>\n",
       "      <td>Fri</td>\n",
       "      <td>Jan</td>\n",
       "      <td>1.5416339346080299</td>\n",
       "      <td>5-10kt</td>\n",
       "      <td>0-50m</td>\n",
       "      <td>LINESTRING (-121.90071 38.04712, -121.90374 38...</td>\n",
       "    </tr>\n",
       "    <tr>\n",
       "      <th>4</th>\n",
       "      <td>2015-01-10 05:47:36</td>\n",
       "      <td>2015-01-10 15:15:06</td>\n",
       "      <td>10.9</td>\n",
       "      <td>27.42</td>\n",
       "      <td>Sat</td>\n",
       "      <td>Jan</td>\n",
       "      <td>1.5387565264193501</td>\n",
       "      <td>10-15kt</td>\n",
       "      <td>0-50m</td>\n",
       "      <td>LINESTRING (-121.90134 38.04802, -121.90414 38...</td>\n",
       "    </tr>\n",
       "  </tbody>\n",
       "</table>\n",
       "</div>"
      ],
      "text/plain": [
       "             start_DTG              end_DTG   SOG LOA_unbinned  day month  \\\n",
       "0  2015-01-19 18:21:43  2015-01-20 00:03:48  47.7        28.65  Mon   Jan   \n",
       "1  2015-01-11 18:39:55  2015-01-12 04:13:36  11.3        27.42  Sun   Jan   \n",
       "2  2015-01-16 09:12:44  2015-01-16 20:13:05  13.0        27.42  Fri   Jan   \n",
       "3  2015-01-09 05:25:13  2015-01-09 15:02:24   9.9        27.42  Fri   Jan   \n",
       "4  2015-01-10 05:47:36  2015-01-10 15:15:06  10.9        27.42  Sat   Jan   \n",
       "\n",
       "               length    Speed Length  \\\n",
       "0   7.900541642041586  45-50kt  0-50m   \n",
       "1  1.5502465242070502  10-15kt  0-50m   \n",
       "2  1.5471122663391763  10-15kt  0-50m   \n",
       "3  1.5416339346080299   5-10kt  0-50m   \n",
       "4  1.5387565264193501  10-15kt  0-50m   \n",
       "\n",
       "                                            geometry  \n",
       "0  LINESTRING (-122.38206 37.74708, -122.38202 37...  \n",
       "1  LINESTRING (-121.90111 38.04800, -121.90470 38...  \n",
       "2  LINESTRING (-121.90003 38.04878, -121.90000 38...  \n",
       "3  LINESTRING (-121.90071 38.04712, -121.90374 38...  \n",
       "4  LINESTRING (-121.90134 38.04802, -121.90414 38...  "
      ]
     },
     "execution_count": 11,
     "metadata": {},
     "output_type": "execute_result"
    }
   ],
   "source": [
    "df = df.rename(columns={'max_SOG': 'Speed', 'LOA': 'Length'})\n",
    "df.head()"
   ]
  },
  {
   "cell_type": "code",
   "execution_count": 12,
   "metadata": {},
   "outputs": [],
   "source": [
    "clusters = ais_processing.cluster_transits(df)"
   ]
  },
  {
   "cell_type": "code",
   "execution_count": 13,
   "metadata": {},
   "outputs": [],
   "source": [
    "foo = ais_processing.cluster_df(df, clusters)"
   ]
  },
  {
   "cell_type": "code",
   "execution_count": 14,
   "metadata": {},
   "outputs": [],
   "source": [
    "foo.to_csv('transits_with_routes.csv', index=False)"
   ]
  },
  {
   "cell_type": "code",
   "execution_count": 16,
   "metadata": {},
   "outputs": [
    {
     "data": {
      "text/plain": [
       "0          1\n",
       "1          1\n",
       "2          1\n",
       "3          1\n",
       "4          1\n",
       "        ... \n",
       "3785    1133\n",
       "3786    1133\n",
       "3787    1133\n",
       "3788    1133\n",
       "3789    1133\n",
       "Name: Route, Length: 3790, dtype: int64"
      ]
     },
     "execution_count": 16,
     "metadata": {},
     "output_type": "execute_result"
    }
   ],
   "source": [
    "foo.Route"
   ]
  },
  {
   "cell_type": "code",
   "execution_count": null,
   "metadata": {},
   "outputs": [],
   "source": [
    "n_clusters = np.array([len(cluster) for cluster in clusters])\n",
    "sig_clusters = np.where(n_clusters >= 10)[0]\n",
    "\n",
    "day = []\n",
    "Speed = []\n",
    "Length = []\n",
    "Count = []\n",
    "geometry = []\n",
    "\n",
    "# TODO: replace below with a loop\n",
    "cluster = clusters[sig_clusters[16]]\n",
    "\n",
    "day_speed_len = set([xyz for xyz in zip(df.day[cluster], df.Speed[cluster], df.Length[cluster])])\n",
    "for dsl in day_speed_len:\n",
    "    day.append(dsl[0])\n",
    "    Speed.append(dsl[1])\n",
    "    Length.append(dsl[2])\n",
    "    sub_cluster = np.array(cluster)[np.where((df.day[cluster] == dsl[0]) & (df.Speed[cluster] == dsl[1]) & (df.Length[cluster] == dsl[2]))[0]]\n",
    "    n_lines = np.ceil(len(sub_cluster) / 10)\n",
    "    Count.append(len(sub_cluster) / n_lines)\n",
    "    geoms = np.array(df.geometry[sub_cluster])\n",
    "    geom_index = np.random.choice(sub_cluster, np.int(n_lines), replace=False)\n",
    "    lines = MultiLineString(list(df.geometry[geom_index]))\n",
    "    geometry.append(lines)"
   ]
  },
  {
   "cell_type": "code",
   "execution_count": null,
   "metadata": {},
   "outputs": [],
   "source": [
    "Count"
   ]
  },
  {
   "cell_type": "code",
   "execution_count": null,
   "metadata": {},
   "outputs": [],
   "source": [
    "geometry[10]"
   ]
  },
  {
   "cell_type": "code",
   "execution_count": null,
   "metadata": {},
   "outputs": [],
   "source": [
    "n_lines"
   ]
  },
  {
   "cell_type": "code",
   "execution_count": null,
   "metadata": {},
   "outputs": [],
   "source": [
    "for i in day_speed_len:\n",
    "    day.append(i[0])\n",
    "    Speed.append(i[1])\n",
    "    Length.append(i[2])\n",
    "    indicies = \n",
    "    geometries = \n",
    "    print(np.sum((df.day[cluster] == i[0]) & (df.Speed[cluster] == i[1]) & (df.Length[cluster] == i[2])))"
   ]
  },
  {
   "cell_type": "code",
   "execution_count": null,
   "metadata": {},
   "outputs": [],
   "source": []
  },
  {
   "cell_type": "code",
   "execution_count": null,
   "metadata": {},
   "outputs": [],
   "source": [
    "days = df.day[cluster].unique()\n",
    "speeds = df.Speed[cluster].unique()\n",
    "lengths = df.Length[cluster].unique()\n",
    "#permutations = np.array(np.meshgrid(days, speeds, lengths)).T.reshape(-1,3)"
   ]
  },
  {
   "cell_type": "markdown",
   "metadata": {},
   "source": [
    "#### Write to a new gpd.GeoDataFrame broken down by characteristics"
   ]
  },
  {
   "cell_type": "code",
   "execution_count": null,
   "metadata": {},
   "outputs": [],
   "source": [
    "days = list(df.day.unique())\n",
    "speeds = list(df.Speed.unique())\n",
    "lengths = list(df.Length.unique())\n",
    "permutations = np.array(np.meshgrid(days, speeds, lengths)).T.reshape(-1,3)"
   ]
  },
  {
   "cell_type": "code",
   "execution_count": null,
   "metadata": {},
   "outputs": [],
   "source": [
    "permutations.shape"
   ]
  },
  {
   "cell_type": "code",
   "execution_count": null,
   "metadata": {},
   "outputs": [],
   "source": [
    "dfi = df[(df.day == 'Mon') & (df.Speed == '0-10kt') & (df.Length == '0-100m')].reset_index(drop=True)\n",
    "clusters = ais_processing.cluster_transits(dfi)"
   ]
  },
  {
   "cell_type": "code",
   "execution_count": null,
   "metadata": {},
   "outputs": [],
   "source": [
    "n_clusters = np.array([len(cluster) for cluster in clusters])"
   ]
  },
  {
   "cell_type": "code",
   "execution_count": null,
   "metadata": {},
   "outputs": [],
   "source": [
    "n_clusters.max()"
   ]
  },
  {
   "cell_type": "code",
   "execution_count": null,
   "metadata": {},
   "outputs": [],
   "source": [
    "if n_clusters.max() > 10:\n",
    "    "
   ]
  },
  {
   "cell_type": "code",
   "execution_count": null,
   "metadata": {},
   "outputs": [],
   "source": [
    "[np.random.choice(x, p=[0.1]) for x in clusters]"
   ]
  },
  {
   "cell_type": "code",
   "execution_count": null,
   "metadata": {},
   "outputs": [],
   "source": [
    "Day = permutations[:,0]\n",
    "Speed = permutations[:,1]\n",
    "Length = permutations[:,2]\n",
    "geometry = []\n",
    "\n",
    "pd.DataFrame.from_dict({'Day': Day, 'Speed': Speed, 'Length': Length})"
   ]
  },
  {
   "cell_type": "code",
   "execution_count": null,
   "metadata": {},
   "outputs": [],
   "source": [
    "permutations[:,0]"
   ]
  },
  {
   "cell_type": "markdown",
   "metadata": {},
   "source": [
    "#### Build a test *non-production* gpd.GeoDataFrame that captures the clustered routes to test performance on the site"
   ]
  },
  {
   "cell_type": "code",
   "execution_count": null,
   "metadata": {},
   "outputs": [],
   "source": [
    "max_SOG  = [df.max_SOG[transit].reset_index(drop=True)[0] for transit in transits]\n",
    "LOA      = [df.LOA[transit].reset_index(drop=True)[0] for transit in transits]\n",
    "geometry = [df.geometry[transit].reset_index(drop=True)[0] for transit in transits]"
   ]
  },
  {
   "cell_type": "code",
   "execution_count": null,
   "metadata": {},
   "outputs": [],
   "source": [
    "pd.DataFrame.from_dict({'max_SOG': max_SOG, 'LOA': LOA, 'geometry': geometry})"
   ]
  },
  {
   "cell_type": "code",
   "execution_count": null,
   "metadata": {},
   "outputs": [],
   "source": [
    "vessels = gpd.GeoDataFrame.from_dict({'Speed': max_SOG, 'Length': LOA, 'Geometry': geometry})"
   ]
  },
  {
   "cell_type": "code",
   "execution_count": null,
   "metadata": {},
   "outputs": [],
   "source": [
    "vessels.to_csv('bay_traffic.csv')"
   ]
  },
  {
   "cell_type": "code",
   "execution_count": null,
   "metadata": {},
   "outputs": [],
   "source": []
  }
 ],
 "metadata": {
  "kernelspec": {
   "display_name": "Python 3",
   "language": "python",
   "name": "python3"
  },
  "language_info": {
   "codemirror_mode": {
    "name": "ipython",
    "version": 3
   },
   "file_extension": ".py",
   "mimetype": "text/x-python",
   "name": "python",
   "nbconvert_exporter": "python",
   "pygments_lexer": "ipython3",
   "version": "3.7.7"
  }
 },
 "nbformat": 4,
 "nbformat_minor": 4
}
