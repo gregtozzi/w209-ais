{
 "cells": [
  {
   "cell_type": "markdown",
   "metadata": {},
   "source": [
    "# Some manual clustering\n",
    "\n",
    "Our clustering isn't bad, but it's not great.  Grouping the clusters helps substantially."
   ]
  },
  {
   "cell_type": "code",
   "execution_count": 1,
   "metadata": {},
   "outputs": [],
   "source": [
    "import ais_processing\n",
    "import geopandas as gpd\n",
    "import numpy as np"
   ]
  },
  {
   "cell_type": "code",
   "execution_count": 2,
   "metadata": {},
   "outputs": [],
   "source": [
    "df = gpd.read_file('data/curated_transits.csv', GEOM_POSSIBLE_NAMES='geometry', KEEP_GEOM_COLUMNS='NO')"
   ]
  },
  {
   "cell_type": "code",
   "execution_count": 3,
   "metadata": {},
   "outputs": [],
   "source": [
    "def name_route(df, routes, route_name):\n",
    "    routes = np.array(routes).astype('str')\n",
    "    rows = np.where(np.isin(df.Route, routes))[0]\n",
    "    df.Route.iloc[rows] = route_name\n",
    "    \n",
    "def delete_route(df, routes):\n",
    "    routes = np.array(routes).astype('str')\n",
    "    rows = np.where(np.isin(df.Route, routes))[0]\n",
    "    foo = df.drop(rows)\n",
    "    return(foo)"
   ]
  },
  {
   "cell_type": "code",
   "execution_count": 4,
   "metadata": {},
   "outputs": [
    {
     "data": {
      "text/plain": [
       "(2911, 6)"
      ]
     },
     "execution_count": 4,
     "metadata": {},
     "output_type": "execute_result"
    }
   ],
   "source": [
    "df.shape"
   ]
  },
  {
   "cell_type": "code",
   "execution_count": 5,
   "metadata": {},
   "outputs": [],
   "source": [
    "cut_index = np.array([1004,\n",
    "1006,\n",
    "1013,\n",
    "1016,\n",
    "1018,\n",
    "1019,\n",
    "1025,\n",
    "1029,\n",
    "1037,\n",
    "1038,\n",
    "1050,\n",
    "1054,\n",
    "1056,\n",
    "1060,\n",
    "1062,\n",
    "1067,\n",
    "1070,\n",
    "1071,\n",
    "1076,\n",
    "1086,\n",
    "1091,\n",
    "1094,\n",
    "1100,\n",
    "1109,\n",
    "1110,\n",
    "1117,\n",
    "1122,\n",
    "999, 995, 875, 808, 847, 853, 862, '879', '882', '885', '893',\n",
    "       '895', '896', '905', '906', '908', '913', '925', '931', '939',\n",
    "       '941', '947', '954', '956', '964', '966', '967', '969', '970',\n",
    "       '978', '979', '980', '987', '993']).astype('str')"
   ]
  },
  {
   "cell_type": "code",
   "execution_count": 6,
   "metadata": {},
   "outputs": [],
   "source": [
    "routes = [\n",
    "    [1, 130, 144, 159, 30, 40, 43, 75, 92],\n",
    "    [147, 157, 169, 191, 231, 283, 61, 73],\n",
    "    [171, 208],\n",
    "    [173, 234],\n",
    "    [187, 221],\n",
    "    [219, 262, 277, 306, 346, 348, 356, 390, 428, 463, 470, 486, 509, 529, 542, 569, 573, 596, 602, 619, 628, 645, 649, 661, 676, 782, 778, 768, 832, 819],\n",
    "    [25, 54],\n",
    "    [250, 483, 514, 552],\n",
    "    [253, 291, 333],\n",
    "    [255, 298, 327, 367],\n",
    "    [261, 297],\n",
    "    [271, 403, 431, 440, 466],\n",
    "    [314, 473, 508],\n",
    "    [317, 355, 374, 386, 391, 407, 430, 449, 452, 465, 484, 487, 488, 510, 511, 515, 531, 534, 538, 546, 551, 558, 561, 565, 579, 580, 584, 591, 598, 604, 613, 621, 622, 633, 636, 637, 648, 651, 657, 667, 674, 675, 690, 692, 693, 709, 723, 724, 729, 751, 752, 767, 792, 790, 777],\n",
    "    [331, 369, 383, 398, 417, 434, 454],\n",
    "    [471, 460, 437, 421, 397, 363],\n",
    "    [469, 493, 499, 503, 522, 553],\n",
    "    [364],\n",
    "    [388, 424, 457, 677, 696, 713, 727, 744, 771, 799, 876, 758],\n",
    "    [399, 438],\n",
    "    [413, 593],\n",
    "    [416, 432, 518],\n",
    "    [533, 550, 583, 605, 627, 634, 643, 663, 678, 695, 725, 797, 787, 760, 820, 805, 773, 815, 810],\n",
    "    [554],\n",
    "    [568],\n",
    "    [800, 766, 753, 740, 737, 720, 704, 683, 877, 825],\n",
    "    [775, 789, 764, 761, 750, 731, 717, 701, 685, 865, 811],\n",
    "    [867, 851]\n",
    "]\n",
    "\n",
    "route_names = ['San Fran. Bay to Carquinez',\n",
    "               'Richmond to Carquinez',\n",
    "               'San Fran. to Vallejo',\n",
    "               'Redwood City',\n",
    "               'Richmond to Golden Gate',\n",
    "               'Between San Fran. & Marin',\n",
    "               'Sea to Carquinez',\n",
    "               'Vallejo to Carquinez',\n",
    "               'Sea to Oakland',\n",
    "               'Sea to Richmond',\n",
    "               'Sea to Anchor',\n",
    "               'Oyster Point',\n",
    "               'Bay Farm',\n",
    "               'Between San Fran. & Oakland',\n",
    "               'Anchor to Richmond',\n",
    "               'Oakland to Richmond',\n",
    "               'San Fran. to Richmond',\n",
    "               'Oakland to Marin',\n",
    "               'East of Carquinez',\n",
    "               'Sea to San Fran.',\n",
    "               'Berkeley to San Fran.',\n",
    "               'Larkspur',\n",
    "               'Vicinity of Richmond',\n",
    "               'Half Moon Bay',\n",
    "               'Redwood City to San Mateo Bridge',\n",
    "               \"Fisherman's Wharf\",\n",
    "               'Oakland Intra-Port',\n",
    "               'Vallejo to Mare Island']"
   ]
  },
  {
   "cell_type": "code",
   "execution_count": 7,
   "metadata": {},
   "outputs": [],
   "source": [
    "df = delete_route(df, cut_index)"
   ]
  },
  {
   "cell_type": "code",
   "execution_count": 8,
   "metadata": {},
   "outputs": [
    {
     "data": {
      "text/plain": [
       "(2498, 6)"
      ]
     },
     "execution_count": 8,
     "metadata": {},
     "output_type": "execute_result"
    }
   ],
   "source": [
    "df.shape"
   ]
  },
  {
   "cell_type": "code",
   "execution_count": 9,
   "metadata": {},
   "outputs": [
    {
     "name": "stderr",
     "output_type": "stream",
     "text": [
      "/Users/gregorytozzi/opt/anaconda3/lib/python3.7/site-packages/pandas/core/indexing.py:671: SettingWithCopyWarning: \n",
      "A value is trying to be set on a copy of a slice from a DataFrame\n",
      "\n",
      "See the caveats in the documentation: https://pandas.pydata.org/pandas-docs/stable/user_guide/indexing.html#returning-a-view-versus-a-copy\n",
      "  self._setitem_with_indexer(indexer, value)\n"
     ]
    }
   ],
   "source": [
    "for i in range(len(route_names)):\n",
    "    name_route(df, routes[i], route_names[i])"
   ]
  },
  {
   "cell_type": "code",
   "execution_count": 10,
   "metadata": {},
   "outputs": [
    {
     "data": {
      "text/plain": [
       "array(['San Fran. Bay to Carquinez', 'Sea to Carquinez',\n",
       "       'Richmond to Carquinez', 'San Fran. to Vallejo', 'Redwood City',\n",
       "       'Richmond to Golden Gate', 'Between San Fran. & Marin',\n",
       "       'Vallejo to Carquinez', 'Sea to Oakland', 'Sea to Richmond',\n",
       "       'Sea to Anchor', 'Oyster Point', 'Bay Farm',\n",
       "       'Between San Fran. & Oakland', 'Anchor to Richmond',\n",
       "       'Oakland to Richmond', 'Oakland to Marin', 'East of Carquinez',\n",
       "       'Sea to San Fran.', 'Berkeley to San Fran.', 'Larkspur',\n",
       "       'San Fran. to Richmond', 'Vicinity of Richmond', 'Half Moon Bay',\n",
       "       'Redwood City to San Mateo Bridge', \"Fisherman's Wharf\",\n",
       "       'Oakland Intra-Port', 'Vallejo to Mare Island'], dtype=object)"
      ]
     },
     "execution_count": 10,
     "metadata": {},
     "output_type": "execute_result"
    }
   ],
   "source": [
    "df.Route.unique()"
   ]
  },
  {
   "cell_type": "code",
   "execution_count": 11,
   "metadata": {},
   "outputs": [],
   "source": [
    "df.to_csv('new_clusters.csv', index=False)"
   ]
  }
 ],
 "metadata": {
  "kernelspec": {
   "display_name": "Python 3",
   "language": "python",
   "name": "python3"
  },
  "language_info": {
   "codemirror_mode": {
    "name": "ipython",
    "version": 3
   },
   "file_extension": ".py",
   "mimetype": "text/x-python",
   "name": "python",
   "nbconvert_exporter": "python",
   "pygments_lexer": "ipython3",
   "version": "3.7.7"
  }
 },
 "nbformat": 4,
 "nbformat_minor": 4
}
