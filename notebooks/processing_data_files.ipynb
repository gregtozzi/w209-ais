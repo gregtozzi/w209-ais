{
 "cells": [
  {
   "cell_type": "markdown",
   "metadata": {},
   "source": [
    "This notebook eventually needs to be converted to a script to automate input file processing.  The basic idea is to discretize a geographic area into squares with a given edge length.  Then count the occurances of reports of moving vessels in each of the squares.  This is an imperfect measure of traffic density because AIS reports are not made with uniform frequency."
   ]
  },
  {
   "cell_type": "code",
   "execution_count": null,
   "metadata": {},
   "outputs": [],
   "source": [
    "import csv\n",
    "import json\n",
    "import numpy as np\n",
    "import numpy.matlib\n",
    "from collections import defaultdict"
   ]
  },
  {
   "cell_type": "markdown",
   "metadata": {},
   "source": [
    "I filtered the original data file first using `awk` to get rid of reports from vessels that weren't moving.\n",
    "\n",
    "```\n",
    "awk '{ if($5 > 0) { print }}' AIS_2015_01_Zone10.csv >> AIS_2015_01_Zone10_moving.csv \n",
    "```"
   ]
  },
  {
   "cell_type": "markdown",
   "metadata": {},
   "source": [
    "We have data in terms of lat and lon.  We need to convert the desired edge length of the squares into degrees of latitude and longitude.  This relationship is not constant.  The distance between lines of latitude varies slightly as you travel N-S.  The distance between lines of longitude varies significantly as you travel N-S.  The function below takes care of this assuming that the positional data is in WGS-84."
   ]
  },
  {
   "cell_type": "code",
   "execution_count": null,
   "metadata": {},
   "outputs": [],
   "source": [
    "def edge_len(lat, edge_yds):\n",
    "    \"\"\"\n",
    "    Given a latitude and desired edge length in yards, returns the edge length\n",
    "    in terms of degrees of latitude.  Assumes a WGS-84 projection.\n",
    "    \n",
    "    Args:\n",
    "        lat: float giving lattitude following the north positive,\n",
    "             south negative convention.\n",
    "        edge_yds: float giving the desired lenght of an edge of\n",
    "                  the bounding square in yards\n",
    "                  \n",
    "    Returns: tuple of two floats giving the edge lenght in terms of\n",
    "             degrees of latitude and degrees of longitude\n",
    "            \n",
    "    \"\"\"\n",
    "    # We need the latitude in radians\n",
    "    lat_in_radians = np.deg2rad(lat)\n",
    "    \n",
    "    # These came from https://en.wikipedia.org/wiki/Geographic_coordinate_system\n",
    "    degree_lat_in_meters = 111132.92 - 559.82 * np.cos(2 * lat_in_radians) + 1.175 * np.cos(4 * lat_in_radians) - 0.0023 * np.cos(6 * lat_in_radians)\n",
    "    degree_lon_in_meters = 111412.84 * np.cos(lat_in_radians) - 93.5 * np.cos(3 * lat_in_radians) + 0.118 * np.cos(5 * lat_in_radians)\n",
    "    \n",
    "    # Conversion factor from meters to yards provided by Google\n",
    "    degree_lat_in_yds = degree_lat_in_meters * 1.09361\n",
    "    degree_lon_in_yds = degree_lon_in_meters * 1.09361\n",
    "    \n",
    "    # Output\n",
    "    return 1 / degree_lat_in_yds * edge_yds, 1 / degree_lon_in_yds * edge_yds"
   ]
  },
  {
   "cell_type": "code",
   "execution_count": null,
   "metadata": {},
   "outputs": [],
   "source": [
    "class ais_map:\n",
    "    def __init__(self, mid_lat, mid_lng, edge_yds, sqs_ns, sqs_ew):\n",
    "        # Establish the length of the squares expressed in degrees of lat and lon\n",
    "        self.ns_edge, self.ew_edge = edge_len(mid_lat, edge_yds)\n",
    "        # Compute the northernmost and southernmost latitudes\n",
    "        self.area_top, self.area_bottom = mid_lat + np.array([1, -1]) * self.ns_edge * sqs_ns / 2\n",
    "        # Compute the easternmost and westernmost longitudes\n",
    "        self.area_right, self.area_left = mid_lng + np.array([1, -1]) * self.ew_edge * sqs_ew / 2\n",
    "        # Discretize latitude\n",
    "        self.ns_breaks = np.linspace(self.area_top, self.area_bottom, sqs_ns + 1)\n",
    "        # Discretize longitude\n",
    "        self.ew_breaks = np.linspace(self.area_left, self.area_right, sqs_ew + 1)\n",
    "        # I'm building four matricies in numpy to define the spatial domain\n",
    "        self.ns_matrix_upper = np.matlib.repmat(self.ns_breaks[:sqs_ns], sqs_ew, 1).T\n",
    "        self.ns_matrix_lower = np.matlib.repmat(self.ns_breaks[1:], sqs_ew, 1).T\n",
    "        self.ew_matrix_left = np.matlib.repmat(self.ew_breaks[:sqs_ew], sqs_ns, 1)\n",
    "        self.ew_matrix_right = np.matlib.repmat(self.ew_breaks[1:], sqs_ns, 1)\n",
    "        # Initialize a numpy matrix to count the instances of vessels in each box\n",
    "        self.count_matrix = np.zeros([sqs_ns, sqs_ew])\n",
    "    \n",
    "    def add_data(self, datafile):\n",
    "        '''\n",
    "        Takes a data file name and counts the instances of vessels in each box.\n",
    "        '''\n",
    "        with open(datafile, newline='') as csvfile:\n",
    "            ais_reader = csv.reader(csvfile, delimiter=',')\n",
    "            # Skip the header\n",
    "            next(ais_reader)\n",
    "            count = 0\n",
    "            for row in ais_reader:\n",
    "                count += 1\n",
    "                if count % 100000 == 0: print(count) # Because processing a file takes forever\n",
    "                LAT = float(row[2])\n",
    "                LON = float(row[3])\n",
    "                SOG = float(row[4])\n",
    "                if (LAT <= self.area_top) & (LAT > self.area_bottom) & (LON >= self.area_left) & (LON < self.area_right):\n",
    "                    compare_matrix = (LON >= self.ew_matrix_left) * (LON < self.ew_matrix_right) * (LAT <= self.ns_matrix_upper) * (LAT > self.ns_matrix_lower)\n",
    "                    self.count_matrix += compare_matrix\n",
    "                    \n",
    "    def write_json(self):\n",
    "        '''\n",
    "        Writes the count matrix to a json file.\n",
    "        '''\n",
    "        flat_count = self.count_matrix.flatten()\n",
    "        flat_ul_corner_lat = self.ns_matrix_upper.flatten()\n",
    "        flat_ul_corner_lon = self.ew_matrix_left.flatten()\n",
    "        \n",
    "        output_dict = {\"type\":\"FeatureCollection\",\"features\":[]}"
   ]
  },
  {
   "cell_type": "markdown",
   "metadata": {},
   "source": [
    "#### An example - SF Bay"
   ]
  },
  {
   "cell_type": "code",
   "execution_count": null,
   "metadata": {},
   "outputs": [],
   "source": [
    "sf_bay = ais_map(37.8272, -122.2913, 100, 960, 760)"
   ]
  },
  {
   "cell_type": "code",
   "execution_count": null,
   "metadata": {},
   "outputs": [],
   "source": [
    "sf_bay.add_data('AIS_2015_01_Zone10_moving.csv')"
   ]
  }
 ],
 "metadata": {
  "kernelspec": {
   "display_name": "Python 3",
   "language": "python",
   "name": "python3"
  },
  "language_info": {
   "codemirror_mode": {
    "name": "ipython",
    "version": 3
   },
   "file_extension": ".py",
   "mimetype": "text/x-python",
   "name": "python",
   "nbconvert_exporter": "python",
   "pygments_lexer": "ipython3",
   "version": "3.7.7"
  }
 },
 "nbformat": 4,
 "nbformat_minor": 4
}
