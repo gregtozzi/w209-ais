{
 "cells": [
  {
   "cell_type": "markdown",
   "metadata": {},
   "source": [
    "# Clustering"
   ]
  },
  {
   "cell_type": "code",
   "execution_count": 1,
   "metadata": {},
   "outputs": [],
   "source": [
    "import ais_processing\n",
    "import pandas as pd\n",
    "import geopandas as gpd\n",
    "from shapely.geometry import MultiLineString"
   ]
  },
  {
   "cell_type": "code",
   "execution_count": 2,
   "metadata": {},
   "outputs": [],
   "source": [
    "df = gpd.read_file('AIS_2015_01_SF_Bay_transits.csv', GEOM_POSSIBLE_NAMES='geometry', KEEP_GEOM_COLUMNS='NO')"
   ]
  },
  {
   "cell_type": "code",
   "execution_count": 3,
   "metadata": {},
   "outputs": [
    {
     "data": {
      "text/html": [
       "<div>\n",
       "<style scoped>\n",
       "    .dataframe tbody tr th:only-of-type {\n",
       "        vertical-align: middle;\n",
       "    }\n",
       "\n",
       "    .dataframe tbody tr th {\n",
       "        vertical-align: top;\n",
       "    }\n",
       "\n",
       "    .dataframe thead th {\n",
       "        text-align: right;\n",
       "    }\n",
       "</style>\n",
       "<table border=\"1\" class=\"dataframe\">\n",
       "  <thead>\n",
       "    <tr style=\"text-align: right;\">\n",
       "      <th></th>\n",
       "      <th>start_DTG</th>\n",
       "      <th>end_DTG</th>\n",
       "      <th>SOG</th>\n",
       "      <th>LOA_unbinned</th>\n",
       "      <th>day</th>\n",
       "      <th>month</th>\n",
       "      <th>length</th>\n",
       "      <th>max_SOG</th>\n",
       "      <th>LOA</th>\n",
       "      <th>geometry</th>\n",
       "    </tr>\n",
       "  </thead>\n",
       "  <tbody>\n",
       "    <tr>\n",
       "      <th>0</th>\n",
       "      <td>2015-01-19 18:21:43</td>\n",
       "      <td>2015-01-20 00:03:48</td>\n",
       "      <td>47.7</td>\n",
       "      <td>28.65</td>\n",
       "      <td>Mon</td>\n",
       "      <td>Jan</td>\n",
       "      <td>7.900541642041586</td>\n",
       "      <td>40-50kt</td>\n",
       "      <td>0-100m</td>\n",
       "      <td>LINESTRING (-122.38206 37.74708, -122.38202 37...</td>\n",
       "    </tr>\n",
       "    <tr>\n",
       "      <th>1</th>\n",
       "      <td>2015-01-11 18:39:55</td>\n",
       "      <td>2015-01-12 04:13:36</td>\n",
       "      <td>11.3</td>\n",
       "      <td>27.42</td>\n",
       "      <td>Sun</td>\n",
       "      <td>Jan</td>\n",
       "      <td>1.5502465242070502</td>\n",
       "      <td>10-20kt</td>\n",
       "      <td>0-100m</td>\n",
       "      <td>LINESTRING (-121.90111 38.04800, -121.90470 38...</td>\n",
       "    </tr>\n",
       "    <tr>\n",
       "      <th>2</th>\n",
       "      <td>2015-01-16 09:12:44</td>\n",
       "      <td>2015-01-16 20:13:05</td>\n",
       "      <td>13.0</td>\n",
       "      <td>27.42</td>\n",
       "      <td>Fri</td>\n",
       "      <td>Jan</td>\n",
       "      <td>1.5471122663391763</td>\n",
       "      <td>10-20kt</td>\n",
       "      <td>0-100m</td>\n",
       "      <td>LINESTRING (-121.90003 38.04878, -121.90000 38...</td>\n",
       "    </tr>\n",
       "    <tr>\n",
       "      <th>3</th>\n",
       "      <td>2015-01-09 05:25:13</td>\n",
       "      <td>2015-01-09 15:02:24</td>\n",
       "      <td>9.9</td>\n",
       "      <td>27.42</td>\n",
       "      <td>Fri</td>\n",
       "      <td>Jan</td>\n",
       "      <td>1.5416339346080299</td>\n",
       "      <td>0-10kt</td>\n",
       "      <td>0-100m</td>\n",
       "      <td>LINESTRING (-121.90071 38.04712, -121.90374 38...</td>\n",
       "    </tr>\n",
       "    <tr>\n",
       "      <th>4</th>\n",
       "      <td>2015-01-10 05:47:36</td>\n",
       "      <td>2015-01-10 15:15:06</td>\n",
       "      <td>10.9</td>\n",
       "      <td>27.42</td>\n",
       "      <td>Sat</td>\n",
       "      <td>Jan</td>\n",
       "      <td>1.5387565264193501</td>\n",
       "      <td>10-20kt</td>\n",
       "      <td>0-100m</td>\n",
       "      <td>LINESTRING (-121.90134 38.04802, -121.90414 38...</td>\n",
       "    </tr>\n",
       "  </tbody>\n",
       "</table>\n",
       "</div>"
      ],
      "text/plain": [
       "             start_DTG              end_DTG   SOG LOA_unbinned  day month  \\\n",
       "0  2015-01-19 18:21:43  2015-01-20 00:03:48  47.7        28.65  Mon   Jan   \n",
       "1  2015-01-11 18:39:55  2015-01-12 04:13:36  11.3        27.42  Sun   Jan   \n",
       "2  2015-01-16 09:12:44  2015-01-16 20:13:05  13.0        27.42  Fri   Jan   \n",
       "3  2015-01-09 05:25:13  2015-01-09 15:02:24   9.9        27.42  Fri   Jan   \n",
       "4  2015-01-10 05:47:36  2015-01-10 15:15:06  10.9        27.42  Sat   Jan   \n",
       "\n",
       "               length  max_SOG     LOA  \\\n",
       "0   7.900541642041586  40-50kt  0-100m   \n",
       "1  1.5502465242070502  10-20kt  0-100m   \n",
       "2  1.5471122663391763  10-20kt  0-100m   \n",
       "3  1.5416339346080299   0-10kt  0-100m   \n",
       "4  1.5387565264193501  10-20kt  0-100m   \n",
       "\n",
       "                                            geometry  \n",
       "0  LINESTRING (-122.38206 37.74708, -122.38202 37...  \n",
       "1  LINESTRING (-121.90111 38.04800, -121.90470 38...  \n",
       "2  LINESTRING (-121.90003 38.04878, -121.90000 38...  \n",
       "3  LINESTRING (-121.90071 38.04712, -121.90374 38...  \n",
       "4  LINESTRING (-121.90134 38.04802, -121.90414 38...  "
      ]
     },
     "execution_count": 3,
     "metadata": {},
     "output_type": "execute_result"
    }
   ],
   "source": [
    "df.head()"
   ]
  },
  {
   "cell_type": "code",
   "execution_count": 4,
   "metadata": {},
   "outputs": [],
   "source": [
    "transits = ais_processing.cluster_transits(df, hausdorff_threshold=0.035)"
   ]
  },
  {
   "cell_type": "markdown",
   "metadata": {},
   "source": [
    "#### Build a test *non-production* gpd.GeoDataFrame that captures the clustered routes to test performance on the site"
   ]
  },
  {
   "cell_type": "code",
   "execution_count": 5,
   "metadata": {},
   "outputs": [],
   "source": [
    "max_SOG  = [df.max_SOG[transit].reset_index(drop=True)[0] for transit in transits]\n",
    "LOA      = [df.LOA[transit].reset_index(drop=True)[0] for transit in transits]\n",
    "geometry = [df.geometry[transit].reset_index(drop=True)[0] for transit in transits]"
   ]
  },
  {
   "cell_type": "code",
   "execution_count": 6,
   "metadata": {},
   "outputs": [
    {
     "data": {
      "text/html": [
       "<div>\n",
       "<style scoped>\n",
       "    .dataframe tbody tr th:only-of-type {\n",
       "        vertical-align: middle;\n",
       "    }\n",
       "\n",
       "    .dataframe tbody tr th {\n",
       "        vertical-align: top;\n",
       "    }\n",
       "\n",
       "    .dataframe thead th {\n",
       "        text-align: right;\n",
       "    }\n",
       "</style>\n",
       "<table border=\"1\" class=\"dataframe\">\n",
       "  <thead>\n",
       "    <tr style=\"text-align: right;\">\n",
       "      <th></th>\n",
       "      <th>max_SOG</th>\n",
       "      <th>LOA</th>\n",
       "      <th>geometry</th>\n",
       "    </tr>\n",
       "  </thead>\n",
       "  <tbody>\n",
       "    <tr>\n",
       "      <th>0</th>\n",
       "      <td>40-50kt</td>\n",
       "      <td>0-100m</td>\n",
       "      <td>LINESTRING (-122.38206 37.74708, -122.38202 37...</td>\n",
       "    </tr>\n",
       "    <tr>\n",
       "      <th>1</th>\n",
       "      <td>10-20kt</td>\n",
       "      <td>0-100m</td>\n",
       "      <td>LINESTRING (-121.90111 38.048, -121.9047 38.04...</td>\n",
       "    </tr>\n",
       "    <tr>\n",
       "      <th>2</th>\n",
       "      <td>10-20kt</td>\n",
       "      <td>0-100m</td>\n",
       "      <td>LINESTRING (-121.90003 38.04878, -121.9 38.049...</td>\n",
       "    </tr>\n",
       "    <tr>\n",
       "      <th>3</th>\n",
       "      <td>10-20kt</td>\n",
       "      <td>0-100m</td>\n",
       "      <td>LINESTRING (-121.90223 38.04816, -121.90574 38...</td>\n",
       "    </tr>\n",
       "    <tr>\n",
       "      <th>4</th>\n",
       "      <td>10-20kt</td>\n",
       "      <td>0-100m</td>\n",
       "      <td>LINESTRING (-121.90381 38.04698, -121.90739 38...</td>\n",
       "    </tr>\n",
       "    <tr>\n",
       "      <th>...</th>\n",
       "      <td>...</td>\n",
       "      <td>...</td>\n",
       "      <td>...</td>\n",
       "    </tr>\n",
       "    <tr>\n",
       "      <th>1484</th>\n",
       "      <td>0-10kt</td>\n",
       "      <td>0-100m</td>\n",
       "      <td>LINESTRING (-122.38545 37.74738, -122.38563 37...</td>\n",
       "    </tr>\n",
       "    <tr>\n",
       "      <th>1485</th>\n",
       "      <td>0-10kt</td>\n",
       "      <td>0-100m</td>\n",
       "      <td>LINESTRING (-122.2113 37.59956, -122.21117 37....</td>\n",
       "    </tr>\n",
       "    <tr>\n",
       "      <th>1486</th>\n",
       "      <td>0-10kt</td>\n",
       "      <td>0-100m</td>\n",
       "      <td>LINESTRING (-122.37312 37.90554, -122.3731 37....</td>\n",
       "    </tr>\n",
       "    <tr>\n",
       "      <th>1487</th>\n",
       "      <td>0-10kt</td>\n",
       "      <td>0-100m</td>\n",
       "      <td>LINESTRING (-122.39437 37.90685999999999, -122...</td>\n",
       "    </tr>\n",
       "    <tr>\n",
       "      <th>1488</th>\n",
       "      <td>0-10kt</td>\n",
       "      <td>0-100m</td>\n",
       "      <td>LINESTRING (-122.01178 38.05875, -122.01203 38...</td>\n",
       "    </tr>\n",
       "  </tbody>\n",
       "</table>\n",
       "<p>1489 rows × 3 columns</p>\n",
       "</div>"
      ],
      "text/plain": [
       "      max_SOG     LOA                                           geometry\n",
       "0     40-50kt  0-100m  LINESTRING (-122.38206 37.74708, -122.38202 37...\n",
       "1     10-20kt  0-100m  LINESTRING (-121.90111 38.048, -121.9047 38.04...\n",
       "2     10-20kt  0-100m  LINESTRING (-121.90003 38.04878, -121.9 38.049...\n",
       "3     10-20kt  0-100m  LINESTRING (-121.90223 38.04816, -121.90574 38...\n",
       "4     10-20kt  0-100m  LINESTRING (-121.90381 38.04698, -121.90739 38...\n",
       "...       ...     ...                                                ...\n",
       "1484   0-10kt  0-100m  LINESTRING (-122.38545 37.74738, -122.38563 37...\n",
       "1485   0-10kt  0-100m  LINESTRING (-122.2113 37.59956, -122.21117 37....\n",
       "1486   0-10kt  0-100m  LINESTRING (-122.37312 37.90554, -122.3731 37....\n",
       "1487   0-10kt  0-100m  LINESTRING (-122.39437 37.90685999999999, -122...\n",
       "1488   0-10kt  0-100m  LINESTRING (-122.01178 38.05875, -122.01203 38...\n",
       "\n",
       "[1489 rows x 3 columns]"
      ]
     },
     "execution_count": 6,
     "metadata": {},
     "output_type": "execute_result"
    }
   ],
   "source": [
    "pd.DataFrame.from_dict({'max_SOG': max_SOG, 'LOA': LOA, 'geometry': geometry})"
   ]
  },
  {
   "cell_type": "code",
   "execution_count": 7,
   "metadata": {},
   "outputs": [],
   "source": [
    "vessels = gpd.GeoDataFrame.from_dict({'Speed': max_SOG, 'Length': LOA, 'Geometry': geometry})"
   ]
  },
  {
   "cell_type": "code",
   "execution_count": 8,
   "metadata": {},
   "outputs": [],
   "source": [
    "vessels.to_csv('bay_traffic.csv')"
   ]
  },
  {
   "cell_type": "code",
   "execution_count": null,
   "metadata": {},
   "outputs": [],
   "source": []
  }
 ],
 "metadata": {
  "kernelspec": {
   "display_name": "Python 3",
   "language": "python",
   "name": "python3"
  },
  "language_info": {
   "codemirror_mode": {
    "name": "ipython",
    "version": 3
   },
   "file_extension": ".py",
   "mimetype": "text/x-python",
   "name": "python",
   "nbconvert_exporter": "python",
   "pygments_lexer": "ipython3",
   "version": "3.7.7"
  }
 },
 "nbformat": 4,
 "nbformat_minor": 4
}
