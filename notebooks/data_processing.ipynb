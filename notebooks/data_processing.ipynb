{
 "cells": [
  {
   "cell_type": "markdown",
   "metadata": {},
   "source": [
    "# Processing Data with `ais_processing.py`"
   ]
  },
  {
   "cell_type": "code",
   "execution_count": 1,
   "metadata": {},
   "outputs": [],
   "source": [
    "import ais_processing"
   ]
  },
  {
   "cell_type": "code",
   "execution_count": null,
   "metadata": {},
   "outputs": [],
   "source": [
    "ais_processing.filter_to_map('../project_flask/static/data/small_bay_topo.json',\n",
    "                             '../../ais/data/AIS_2015_01_Zone10.csv',\n",
    "                             'AIS_2015_01_Bay_Area.csv')"
   ]
  },
  {
   "cell_type": "code",
   "execution_count": null,
   "metadata": {},
   "outputs": [],
   "source": [
    "ais_processing.ais_to_json('AIS_2015_01_Bay_Area.csv', 'AIS_2015_01_Bay_Area.json')"
   ]
  },
  {
   "cell_type": "code",
   "execution_count": null,
   "metadata": {},
   "outputs": [],
   "source": [
    "ais_processing.analyze_vessel_json('AIS_2015_01_Bay_Area.json', Prune=True, prune_path='AIS_2015_01_Bay_Area_pruned.json')"
   ]
  },
  {
   "cell_type": "code",
   "execution_count": null,
   "metadata": {},
   "outputs": [],
   "source": [
    "data = ais_processing.pandize_data('AIS_2015_01_Bay_Area_pruned.json')"
   ]
  },
  {
   "cell_type": "code",
   "execution_count": null,
   "metadata": {},
   "outputs": [],
   "source": [
    "df = ais_processing.transits_df(data)"
   ]
  },
  {
   "cell_type": "code",
   "execution_count": null,
   "metadata": {},
   "outputs": [],
   "source": [
    "df.head()"
   ]
  },
  {
   "cell_type": "code",
   "execution_count": null,
   "metadata": {},
   "outputs": [],
   "source": [
    "df.shape"
   ]
  },
  {
   "cell_type": "code",
   "execution_count": null,
   "metadata": {},
   "outputs": [],
   "source": [
    "df.to_csv('transits_20201126.csv', index=False)"
   ]
  },
  {
   "cell_type": "code",
   "execution_count": 4,
   "metadata": {},
   "outputs": [],
   "source": [
    "import geopandas as gpd\n",
    "df = gpd.read_file('transits_20201126.csv', GEOM_POSSIBLE_NAMES='geometry', KEEP_GEOM_COLUMNS='NO')"
   ]
  },
  {
   "cell_type": "code",
   "execution_count": 5,
   "metadata": {},
   "outputs": [],
   "source": [
    "clust_df = ais_processing.cluster_df_test(df)"
   ]
  },
  {
   "cell_type": "code",
   "execution_count": 6,
   "metadata": {},
   "outputs": [
    {
     "data": {
      "text/html": [
       "<div>\n",
       "<style scoped>\n",
       "    .dataframe tbody tr th:only-of-type {\n",
       "        vertical-align: middle;\n",
       "    }\n",
       "\n",
       "    .dataframe tbody tr th {\n",
       "        vertical-align: top;\n",
       "    }\n",
       "\n",
       "    .dataframe thead th {\n",
       "        text-align: right;\n",
       "    }\n",
       "</style>\n",
       "<table border=\"1\" class=\"dataframe\">\n",
       "  <thead>\n",
       "    <tr style=\"text-align: right;\">\n",
       "      <th></th>\n",
       "      <th>Day</th>\n",
       "      <th>Speed</th>\n",
       "      <th>Length</th>\n",
       "      <th>Count</th>\n",
       "      <th>Route</th>\n",
       "      <th>geometry</th>\n",
       "    </tr>\n",
       "  </thead>\n",
       "  <tbody>\n",
       "    <tr>\n",
       "      <th>0</th>\n",
       "      <td>Fri</td>\n",
       "      <td>10-20kt</td>\n",
       "      <td>0-100m</td>\n",
       "      <td>3</td>\n",
       "      <td>1</td>\n",
       "      <td>MULTILINESTRING ((-121.93938 38.04995, -121.94...</td>\n",
       "    </tr>\n",
       "    <tr>\n",
       "      <th>1</th>\n",
       "      <td>Tue</td>\n",
       "      <td>10-20kt</td>\n",
       "      <td>0-100m</td>\n",
       "      <td>4</td>\n",
       "      <td>1</td>\n",
       "      <td>MULTILINESTRING ((-121.94490 38.05189, -121.94...</td>\n",
       "    </tr>\n",
       "    <tr>\n",
       "      <th>2</th>\n",
       "      <td>Thu</td>\n",
       "      <td>10-20kt</td>\n",
       "      <td>0-100m</td>\n",
       "      <td>3</td>\n",
       "      <td>1</td>\n",
       "      <td>MULTILINESTRING ((-121.93823 38.05093, -121.94...</td>\n",
       "    </tr>\n",
       "    <tr>\n",
       "      <th>3</th>\n",
       "      <td>Sat</td>\n",
       "      <td>10-20kt</td>\n",
       "      <td>0-100m</td>\n",
       "      <td>2</td>\n",
       "      <td>1</td>\n",
       "      <td>MULTILINESTRING ((-121.93996 38.05039, -121.94...</td>\n",
       "    </tr>\n",
       "    <tr>\n",
       "      <th>4</th>\n",
       "      <td>Sun</td>\n",
       "      <td>10-20kt</td>\n",
       "      <td>0-100m</td>\n",
       "      <td>2</td>\n",
       "      <td>1</td>\n",
       "      <td>MULTILINESTRING ((-121.93922 38.05130, -121.94...</td>\n",
       "    </tr>\n",
       "  </tbody>\n",
       "</table>\n",
       "</div>"
      ],
      "text/plain": [
       "   Day    Speed  Length  Count  Route  \\\n",
       "0  Fri  10-20kt  0-100m      3      1   \n",
       "1  Tue  10-20kt  0-100m      4      1   \n",
       "2  Thu  10-20kt  0-100m      3      1   \n",
       "3  Sat  10-20kt  0-100m      2      1   \n",
       "4  Sun  10-20kt  0-100m      2      1   \n",
       "\n",
       "                                            geometry  \n",
       "0  MULTILINESTRING ((-121.93938 38.04995, -121.94...  \n",
       "1  MULTILINESTRING ((-121.94490 38.05189, -121.94...  \n",
       "2  MULTILINESTRING ((-121.93823 38.05093, -121.94...  \n",
       "3  MULTILINESTRING ((-121.93996 38.05039, -121.94...  \n",
       "4  MULTILINESTRING ((-121.93922 38.05130, -121.94...  "
      ]
     },
     "execution_count": 6,
     "metadata": {},
     "output_type": "execute_result"
    }
   ],
   "source": [
    "clust_df.head()"
   ]
  },
  {
   "cell_type": "code",
   "execution_count": 7,
   "metadata": {},
   "outputs": [],
   "source": [
    "clust_df.to_csv('clustered_transits.csv', index=False)"
   ]
  }
 ],
 "metadata": {
  "kernelspec": {
   "display_name": "Python 3",
   "language": "python",
   "name": "python3"
  },
  "language_info": {
   "codemirror_mode": {
    "name": "ipython",
    "version": 3
   },
   "file_extension": ".py",
   "mimetype": "text/x-python",
   "name": "python",
   "nbconvert_exporter": "python",
   "pygments_lexer": "ipython3",
   "version": "3.7.7"
  }
 },
 "nbformat": 4,
 "nbformat_minor": 4
}
